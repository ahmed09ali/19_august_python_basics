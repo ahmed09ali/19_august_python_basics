{
 "cells": [
  {
   "cell_type": "code",
   "execution_count": 1,
   "id": "d2eb0424",
   "metadata": {},
   "outputs": [
    {
     "name": "stdout",
     "output_type": "stream",
     "text": [
      "Before swapping:\n",
      "x = 5\n",
      "y = 10\n",
      "\n",
      "After swapping:\n",
      "x = 10\n",
      "y = 5\n"
     ]
    }
   ],
   "source": [
    "# TOPIC python basic variable \n",
    "#Q:1 swapping numbers\n",
    "x = 5\n",
    "y = 10\n",
    "\n",
    "print(\"Before swapping:\")\n",
    "print(\"x =\", x)\n",
    "print(\"y =\", y)\n",
    "\n",
    "x = x + y\n",
    "y = x - y\n",
    "x = x - y\n",
    "\n",
    "print(\"\\nAfter swapping:\")\n",
    "print(\"x =\", x)\n",
    "print(\"y =\", y)\n"
   ]
  },
  {
   "cell_type": "code",
   "execution_count": 2,
   "id": "7952288c",
   "metadata": {},
   "outputs": [
    {
     "name": "stdout",
     "output_type": "stream",
     "text": [
      "Enter the length of the rectangle: 10\n",
      "Enter the width of the rectangle: 15\n",
      "The area of the rectangle is: 150.0\n"
     ]
    }
   ],
   "source": [
    "#Q:2 finding the area of rectangle\n",
    "length = float(input(\"Enter the length of the rectangle: \"))\n",
    "width = float(input(\"Enter the width of the rectangle: \"))\n",
    "\n",
    "area = length * width\n",
    "\n",
    "print(\"The area of the rectangle is:\", area)\n"
   ]
  },
  {
   "cell_type": "code",
   "execution_count": 3,
   "id": "d4628243",
   "metadata": {},
   "outputs": [
    {
     "name": "stdout",
     "output_type": "stream",
     "text": [
      "Enter the temperature in Celsius: 32\n",
      "Temperature in Fahrenheit: 89.6\n"
     ]
    }
   ],
   "source": [
    "#Q:3 converting celsius to farenheit\n",
    "celsius = float(input(\"Enter the temperature in Celsius: \"))\n",
    "\n",
    "fahrenheit = (celsius * 9/5) + 32\n",
    "\n",
    "print(\"Temperature in Fahrenheit:\", fahrenheit)\n"
   ]
  },
  {
   "cell_type": "code",
   "execution_count": 4,
   "id": "6adcf1eb",
   "metadata": {},
   "outputs": [
    {
     "name": "stdout",
     "output_type": "stream",
     "text": [
      "Enter a string: ahmed\n",
      "Length of the string: 5\n"
     ]
    }
   ],
   "source": [
    "# TOPIC string based questions\n",
    "#Q:1 length of string\n",
    "string = input(\"Enter a string: \")\n",
    "print(\"Length of the string:\", len(string))\n"
   ]
  },
  {
   "cell_type": "code",
   "execution_count": 5,
   "id": "51c15d03",
   "metadata": {},
   "outputs": [
    {
     "name": "stdout",
     "output_type": "stream",
     "text": [
      "Enter a sentence: this is ahmed\n",
      "Number of vowels: 4\n"
     ]
    }
   ],
   "source": [
    "#Q:2 counting no of vowels\n",
    "sentence = input(\"Enter a sentence: \")\n",
    "vowels = 'aeiouAEIOU'\n",
    "count = 0\n",
    "for char in sentence:\n",
    "    if char in vowels:\n",
    "        count += 1\n",
    "print(\"Number of vowels:\", count)\n"
   ]
  },
  {
   "cell_type": "code",
   "execution_count": 6,
   "id": "0c89a398",
   "metadata": {},
   "outputs": [
    {
     "name": "stdout",
     "output_type": "stream",
     "text": [
      "Enter a string: ahmed\n",
      "Reversed string: demha\n"
     ]
    }
   ],
   "source": [
    "#Q:3 reverse a string\n",
    "string = input(\"Enter a string: \")\n",
    "reversed_string = string[::-1]\n",
    "print(\"Reversed string:\", reversed_string)\n"
   ]
  },
  {
   "cell_type": "code",
   "execution_count": 7,
   "id": "e19d120e",
   "metadata": {},
   "outputs": [
    {
     "name": "stdout",
     "output_type": "stream",
     "text": [
      "Enter a string: malayalam\n",
      "The string is a palindrome.\n"
     ]
    }
   ],
   "source": [
    "#Q:4 check if string is palindrome or not\n",
    "string = input(\"Enter a string: \")\n",
    "if string == string[::-1]:\n",
    "    print(\"The string is a palindrome.\")\n",
    "else:\n",
    "    print(\"The string is not a palindrome.\")\n"
   ]
  },
  {
   "cell_type": "code",
   "execution_count": 9,
   "id": "4c5f9deb",
   "metadata": {},
   "outputs": [
    {
     "name": "stdout",
     "output_type": "stream",
     "text": [
      "Enter a string: ahmed ali\n",
      "Modified string without spaces: ahmedali\n"
     ]
    }
   ],
   "source": [
    "#Q:5 removing spaces between strings\n",
    "string = input(\"Enter a string: \")\n",
    "string_without_spaces = string.replace(\" \", \"\")\n",
    "print(\"Modified string without spaces:\", string_without_spaces)\n"
   ]
  },
  {
   "cell_type": "code",
   "execution_count": null,
   "id": "e874512d",
   "metadata": {},
   "outputs": [],
   "source": []
  }
 ],
 "metadata": {
  "kernelspec": {
   "display_name": "Python 3 (ipykernel)",
   "language": "python",
   "name": "python3"
  },
  "language_info": {
   "codemirror_mode": {
    "name": "ipython",
    "version": 3
   },
   "file_extension": ".py",
   "mimetype": "text/x-python",
   "name": "python",
   "nbconvert_exporter": "python",
   "pygments_lexer": "ipython3",
   "version": "3.11.5"
  }
 },
 "nbformat": 4,
 "nbformat_minor": 5
}
